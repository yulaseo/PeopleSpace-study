{
 "cells": [
  {
   "cell_type": "code",
   "execution_count": 2,
   "metadata": {},
   "outputs": [],
   "source": [
    "from selenium import webdriver\n",
    "import urllib.request\n",
    "import time\n",
    "\n",
    "search_words = ['double+top+pattern', 'head+and+shoulders+pattern', 'double+bottom+pattern', 'inverse+head+and+shoulder+pattern']\n",
    "\n",
    "for search in search_words:\n",
    "    url = 'https://www.google.com/search?q=' + search + '&tbm=isch&ved=2ahUKEwic3tqGm4_uAhUI35QKHSa5DnkQ2-cCegQIABAA'\n",
    "    driver = webdriver.Chrome('D:\\program\\chromedriver_win32\\chromedriver.exe')\n",
    "    driver.get(url)\n",
    "\n",
    "    last_height = driver.execute_script(\"return document.body.scrollHeight\")\n",
    "    while True:\n",
    "        driver.execute_script(\"window.scrollTo(0, document.body.scrollHeight);\")\n",
    "        time.sleep(1)\n",
    "        new_height = driver.execute_script(\"return document.body.scrollHeight\")\n",
    "        if new_height == last_height:\n",
    "            try:\n",
    "                driver.find_element_by_css_selector(\".mye4qd\").click()\n",
    "            except:\n",
    "                break\n",
    "        last_height = new_height\n",
    "\n",
    "    images = driver.find_elements_by_css_selector(\".rg_i.Q4LuWd\")\n",
    "    count = 1\n",
    "    for image in images:\n",
    "        try:\n",
    "            image.click()\n",
    "            time.sleep(2)\n",
    "            imgUrl = driver.find_element_by_xpath(\n",
    "                '/html/body/div[2]/c-wiz/div[3]/div[2]/div[3]/div/div/div[3]/div[2]/c-wiz/div[1]/div[1]/div/div[2]/a/img').get_attribute(\"src\")\n",
    "            opener=urllib.request.build_opener()\n",
    "            opener.addheaders=[('User-Agent','Mozilla/5.0 (Windows NT 6.1; WOW64) AppleWebKit/537.36 (KHTML, like Gecko) Chrome/87.0.4280.88 Safari/537.36')]\n",
    "            urllib.request.install_opener(opener)\n",
    "            urllib.request.urlretrieve(imgUrl, 'image_crawling/' + search +'/' + str(count) + \".jpg\")\n",
    "            count = count + 1\n",
    "        except:\n",
    "            pass\n",
    "\n",
    "    driver.close()"
   ]
  },
  {
   "cell_type": "code",
   "execution_count": null,
   "metadata": {},
   "outputs": [],
   "source": []
  }
 ],
 "metadata": {
  "kernelspec": {
   "display_name": "Python 3",
   "language": "python",
   "name": "python3"
  },
  "language_info": {
   "codemirror_mode": {
    "name": "ipython",
    "version": 3
   },
   "file_extension": ".py",
   "mimetype": "text/x-python",
   "name": "python",
   "nbconvert_exporter": "python",
   "pygments_lexer": "ipython3",
   "version": "3.8.5"
  }
 },
 "nbformat": 4,
 "nbformat_minor": 4
}
